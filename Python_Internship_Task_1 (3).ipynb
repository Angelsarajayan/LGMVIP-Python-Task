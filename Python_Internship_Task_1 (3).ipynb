{
  "nbformat": 4,
  "nbformat_minor": 0,
  "metadata": {
    "colab": {
      "provenance": []
    },
    "kernelspec": {
      "name": "python3",
      "display_name": "Python 3"
    },
    "language_info": {
      "name": "python"
    }
  },
  "cells": [
    {
      "cell_type": "markdown",
      "source": [
        "ROCK PAPER SCISSORS GAME USING PYTHON"
      ],
      "metadata": {
        "id": "uYPAEc-YHC7U"
      }
    },
    {
      "cell_type": "code",
      "execution_count": 1,
      "metadata": {
        "colab": {
          "base_uri": "https://localhost:8080/"
        },
        "id": "9PZVol8RGsso",
        "outputId": "ff0319d8-e510-4a9f-a5d0-0e96e0a8fe3a"
      },
      "outputs": [
        {
          "output_type": "stream",
          "name": "stdout",
          "text": [
            "Welcome to Rock, Paper, Scissors!\n",
            "Enter your choice:\n",
            "1: Rock\n",
            "2: Paper\n",
            "3: Scissors\n",
            "Your choice: 2\n",
            "You chose: paper\n",
            "Computer chose: rock\n",
            "You win this round!\n",
            "Score - You: 1, Computer: 0, Ties: 0\n",
            "Do you want to play again? (yes/no): yes\n",
            "Enter your choice:\n",
            "1: Rock\n",
            "2: Paper\n",
            "3: Scissors\n",
            "Your choice: 1\n",
            "You chose: rock\n",
            "Computer chose: rock\n",
            "It's a tie!\n",
            "Score - You: 1, Computer: 0, Ties: 1\n",
            "Do you want to play again? (yes/no): no\n",
            "Thanks for playing! Final scores:\n",
            "You: 1, Computer: 0, Ties: 1\n"
          ]
        }
      ],
      "source": [
        "import random\n",
        "\n",
        "def get_user_choice():\n",
        "    choices = {'1': 'rock', '2': 'paper', '3': 'scissors'}\n",
        "    print(\"Enter your choice:\")\n",
        "    print(\"1: Rock\")\n",
        "    print(\"2: Paper\")\n",
        "    print(\"3: Scissors\")\n",
        "    choice = input(\"Your choice: \")\n",
        "    while choice not in choices:\n",
        "        print(\"Invalid choice. Please try again.\")\n",
        "        choice = input(\"Your choice: \")\n",
        "    return choices[choice]\n",
        "\n",
        "def get_computer_choice():\n",
        "    return random.choice([\"rock\", \"paper\", \"scissors\"])\n",
        "\n",
        "def determine_winner(user_choice, computer_choice):\n",
        "    winning_combos = {\n",
        "        'rock': 'scissors',\n",
        "        'scissors': 'paper',\n",
        "        'paper': 'rock'\n",
        "    }\n",
        "    if user_choice == computer_choice:\n",
        "        return \"tie\"\n",
        "    elif winning_combos[user_choice] == computer_choice:\n",
        "        return \"user\"\n",
        "    else:\n",
        "        return \"computer\"\n",
        "\n",
        "def display_choices(user_choice, computer_choice):\n",
        "    print(f\"You chose: {user_choice}\")\n",
        "    print(f\"Computer chose: {computer_choice}\")\n",
        "\n",
        "def display_result(result, user_score, computer_score, ties):\n",
        "    if result == \"user\":\n",
        "        print(\"You win this round!\")\n",
        "    elif result == \"computer\":\n",
        "        print(\"Computer wins this round!\")\n",
        "    else:\n",
        "        print(\"It's a tie!\")\n",
        "    print(f\"Score - You: {user_score}, Computer: {computer_score}, Ties: {ties}\")\n",
        "\n",
        "def play_game():\n",
        "    print(\"Welcome to Rock, Paper, Scissors!\")\n",
        "    user_score = 0\n",
        "    computer_score = 0\n",
        "    ties = 0\n",
        "\n",
        "    while True:\n",
        "        user_choice = get_user_choice()\n",
        "        computer_choice = get_computer_choice()\n",
        "        display_choices(user_choice, computer_choice)\n",
        "\n",
        "        result = determine_winner(user_choice, computer_choice)\n",
        "        if result == \"user\":\n",
        "            user_score += 1\n",
        "        elif result == \"computer\":\n",
        "            computer_score += 1\n",
        "        else:\n",
        "            ties += 1\n",
        "\n",
        "        display_result(result, user_score, computer_score, ties)\n",
        "\n",
        "        play_again = input(\"Do you want to play again? (yes/no): \").lower()\n",
        "        if play_again != \"yes\":\n",
        "            print(\"Thanks for playing! Final scores:\")\n",
        "            print(f\"You: {user_score}, Computer: {computer_score}, Ties: {ties}\")\n",
        "            break\n",
        "\n",
        "if __name__ == \"__main__\":\n",
        "    play_game()\n"
      ]
    },
    {
      "cell_type": "code",
      "source": [],
      "metadata": {
        "id": "uUBCaF-CGvtG"
      },
      "execution_count": null,
      "outputs": []
    }
  ]
}