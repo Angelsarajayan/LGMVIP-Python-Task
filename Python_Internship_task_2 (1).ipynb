{
  "nbformat": 4,
  "nbformat_minor": 0,
  "metadata": {
    "colab": {
      "provenance": []
    },
    "kernelspec": {
      "name": "python3",
      "display_name": "Python 3"
    },
    "language_info": {
      "name": "python"
    }
  },
  "cells": [
    {
      "cell_type": "markdown",
      "source": [
        "CHATBOT USING PYTHON"
      ],
      "metadata": {
        "id": "BE1DCegmDqtQ"
      }
    },
    {
      "cell_type": "code",
      "execution_count": 11,
      "metadata": {
        "id": "BQgCT3_HBsDK"
      },
      "outputs": [],
      "source": [
        "import random"
      ]
    },
    {
      "cell_type": "code",
      "source": [
        "# Define a simple set of intents and responses\n",
        "intents = {\n",
        "    \"greetings\": {\n",
        "        \"patterns\": [\"hello\", \"hi\", \"hey\", \"good morning\", \"good afternoon\", \"good evening\"],\n",
        "        \"responses\": [\"Hello!\", \"Hi there!\", \"Hey!\", \"Good day!\", \"How can I help you today?\"]\n",
        "    },\n",
        "    \"goodbye\": {\n",
        "        \"patterns\": [\"bye\", \"goodbye\", \"see you later\", \"take care\"],\n",
        "        \"responses\": [\"Goodbye!\", \"See you later!\", \"Take care!\", \"Have a great day!\"]\n",
        "    },\n",
        "    \"thanks\": {\n",
        "        \"patterns\": [\"thanks\", \"thank you\", \"that's helpful\", \"thanks a lot\"],\n",
        "        \"responses\": [\"You're welcome!\", \"No problem!\", \"My pleasure!\", \"Glad to help!\"]\n",
        "    },\n",
        "    \"name\": {\n",
        "        \"patterns\": [\"what's your name\", \"who are you\", \"tell me your name\"],\n",
        "        \"responses\": [\"I am a chatbot.\", \"I am your virtual assistant.\", \"You can call me ChatBot.\"]\n",
        "    },\n",
        "    \"default\": {\n",
        "        \"responses\": [\"Sorry, I didn't understand that.\", \"Can you rephrase that?\", \"I'm not sure how to respond to that.\"]\n",
        "    }\n",
        "}"
      ],
      "metadata": {
        "id": "pGmRquJ_BzI9"
      },
      "execution_count": 12,
      "outputs": []
    },
    {
      "cell_type": "code",
      "source": [
        "# Function to find the intent of the user's message\n",
        "def find_intent(message):\n",
        "    for intent, data in intents.items():\n",
        "        for pattern in data[\"patterns\"]:\n",
        "            if pattern in message.lower():\n",
        "                return intent\n",
        "    return \"default\"\n"
      ],
      "metadata": {
        "id": "R8wjEVr3B9Ch"
      },
      "execution_count": 13,
      "outputs": []
    },
    {
      "cell_type": "code",
      "source": [
        "# Function to get a response from the chatbot\n",
        "def get_response(intent):\n",
        "    return random.choice(intents[intent][\"responses\"])"
      ],
      "metadata": {
        "id": "7dtotFHZCI0r"
      },
      "execution_count": 14,
      "outputs": []
    },
    {
      "cell_type": "code",
      "source": [
        "# Main chat loop\n",
        "def chatbot():\n",
        "    print(\"ChatBot: Hi there! How can I help you? (type 'quit' to exit)\")\n",
        "    while True:\n",
        "        message = input(\"You: \")\n",
        "        if message.lower() == 'quit':\n",
        "            print(\"ChatBot: Goodbye!\")\n",
        "            break\n",
        "        intent = find_intent(message)\n",
        "        response = get_response(intent)\n",
        "        print(f\"ChatBot: {response}\")\n",
        "\n",
        "if __name__ == \"__main__\":\n",
        "    chatbot()\n"
      ],
      "metadata": {
        "colab": {
          "base_uri": "https://localhost:8080/"
        },
        "id": "t5IvYTYkCUPM",
        "outputId": "654600f2-11bb-475a-c7eb-efac50f62039"
      },
      "execution_count": 15,
      "outputs": [
        {
          "output_type": "stream",
          "name": "stdout",
          "text": [
            "ChatBot: Hi there! How can I help you? (type 'quit' to exit)\n",
            "You: hey\n",
            "ChatBot: Hey!\n",
            "You: who are you\n",
            "ChatBot: You can call me ChatBot.\n",
            "You: see you later\n",
            "ChatBot: See you later!\n",
            "You: quit\n",
            "ChatBot: Goodbye!\n"
          ]
        }
      ]
    },
    {
      "cell_type": "code",
      "source": [],
      "metadata": {
        "id": "csbOi5hICZsb"
      },
      "execution_count": 15,
      "outputs": []
    }
  ]
}